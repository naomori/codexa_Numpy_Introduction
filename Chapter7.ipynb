{
  "nbformat": 4,
  "nbformat_minor": 0,
  "metadata": {
    "colab": {
      "name": "Chapter7.ipynb",
      "version": "0.3.2",
      "provenance": [],
      "include_colab_link": true
    },
    "kernelspec": {
      "name": "python3",
      "display_name": "Python 3"
    },
    "accelerator": "GPU"
  },
  "cells": [
    {
      "cell_type": "markdown",
      "metadata": {
        "id": "view-in-github",
        "colab_type": "text"
      },
      "source": [
        "<a href=\"https://colab.research.google.com/github/naomori/codexa_Numpy_Introduction/blob/master/Chapter7.ipynb\" target=\"_parent\"><img src=\"https://colab.research.google.com/assets/colab-badge.svg\" alt=\"Open In Colab\"/></a>"
      ]
    },
    {
      "cell_type": "markdown",
      "metadata": {
        "id": "lMYXFa95f7UA",
        "colab_type": "text"
      },
      "source": [
        "# 乱数の生成\n",
        "\n",
        "\n",
        "# 一様乱数：0-1の一様分布の乱数"
      ]
    },
    {
      "cell_type": "code",
      "metadata": {
        "id": "A4rWJnHTf3d0",
        "colab_type": "code",
        "colab": {}
      },
      "source": [
        "import numpy as np"
      ],
      "execution_count": 0,
      "outputs": []
    },
    {
      "cell_type": "code",
      "metadata": {
        "id": "VyjbLE2OgKbR",
        "colab_type": "code",
        "colab": {
          "base_uri": "https://localhost:8080/",
          "height": 52
        },
        "outputId": "f0a2047e-9b32-4478-d8ef-52273f162792"
      },
      "source": [
        "np.random.rand(10)"
      ],
      "execution_count": 4,
      "outputs": [
        {
          "output_type": "execute_result",
          "data": {
            "text/plain": [
              "array([0.12579552, 0.11580811, 0.05638604, 0.19575645, 0.62927097,\n",
              "       0.62366157, 0.13284304, 0.25238773, 0.20047705, 0.28401145])"
            ]
          },
          "metadata": {
            "tags": []
          },
          "execution_count": 4
        }
      ]
    },
    {
      "cell_type": "code",
      "metadata": {
        "id": "h8olfJlsgT6j",
        "colab_type": "code",
        "colab": {
          "base_uri": "https://localhost:8080/",
          "height": 52
        },
        "outputId": "a1f98af4-f2b5-40b5-ff0f-bc4695b91f5f"
      },
      "source": [
        "a = np.random.rand(2, 2)\n",
        "a"
      ],
      "execution_count": 10,
      "outputs": [
        {
          "output_type": "execute_result",
          "data": {
            "text/plain": [
              "array([[0.77231703, 0.31208797],\n",
              "       [0.76716008, 0.60442852]])"
            ]
          },
          "metadata": {
            "tags": []
          },
          "execution_count": 10
        }
      ]
    },
    {
      "cell_type": "code",
      "metadata": {
        "id": "I6zzCJeLgZHq",
        "colab_type": "code",
        "colab": {
          "base_uri": "https://localhost:8080/",
          "height": 34
        },
        "outputId": "ad2a6de3-6bbe-4b58-e830-c4537116ead0"
      },
      "source": [
        "a.shape"
      ],
      "execution_count": 11,
      "outputs": [
        {
          "output_type": "execute_result",
          "data": {
            "text/plain": [
              "(2, 2)"
            ]
          },
          "metadata": {
            "tags": []
          },
          "execution_count": 11
        }
      ]
    },
    {
      "cell_type": "markdown",
      "metadata": {
        "id": "3C9NxUhtgmpp",
        "colab_type": "text"
      },
      "source": [
        "## 標準正規分布（Standard Normal Distribution）\n",
        "\n",
        "* 標準偏差(standard deviation)=1\n",
        "* 平均値(mean) = 0"
      ]
    },
    {
      "cell_type": "code",
      "metadata": {
        "id": "4MrbT8ddgejU",
        "colab_type": "code",
        "colab": {
          "base_uri": "https://localhost:8080/",
          "height": 34
        },
        "outputId": "c79a31f0-19b9-4c08-824e-3f6553f915ad"
      },
      "source": [
        "import numpy as np\n",
        "np.random.randn(1)"
      ],
      "execution_count": 7,
      "outputs": [
        {
          "output_type": "execute_result",
          "data": {
            "text/plain": [
              "array([1.37070535])"
            ]
          },
          "metadata": {
            "tags": []
          },
          "execution_count": 7
        }
      ]
    },
    {
      "cell_type": "code",
      "metadata": {
        "id": "cjgtLtgfg4Z4",
        "colab_type": "code",
        "colab": {
          "base_uri": "https://localhost:8080/",
          "height": 34
        },
        "outputId": "4419c196-2226-48a9-e0db-54cdc449f7a8"
      },
      "source": [
        "randn5000 = np.random.randn(5000,5000)\n",
        "randn5000.shape"
      ],
      "execution_count": 8,
      "outputs": [
        {
          "output_type": "execute_result",
          "data": {
            "text/plain": [
              "(5000, 5000)"
            ]
          },
          "metadata": {
            "tags": []
          },
          "execution_count": 8
        }
      ]
    },
    {
      "cell_type": "code",
      "metadata": {
        "id": "YJWdxrXthBif",
        "colab_type": "code",
        "colab": {
          "base_uri": "https://localhost:8080/",
          "height": 34
        },
        "outputId": "da84899a-b252-47c3-ec08-0da6643f4c9f"
      },
      "source": [
        "randn5000.mean()"
      ],
      "execution_count": 9,
      "outputs": [
        {
          "output_type": "execute_result",
          "data": {
            "text/plain": [
              "0.00010167184230085684"
            ]
          },
          "metadata": {
            "tags": []
          },
          "execution_count": 9
        }
      ]
    },
    {
      "cell_type": "code",
      "metadata": {
        "id": "HkeItOUThFbO",
        "colab_type": "code",
        "colab": {
          "base_uri": "https://localhost:8080/",
          "height": 34
        },
        "outputId": "1ababad7-2600-4ed6-919c-3518e605aa7e"
      },
      "source": [
        "randn5000_2 = np.random.randn(5000,5000)\n",
        "randn5000_2.shape\n",
        "randn5000_2.mean()"
      ],
      "execution_count": 10,
      "outputs": [
        {
          "output_type": "execute_result",
          "data": {
            "text/plain": [
              "0.00012860721761759296"
            ]
          },
          "metadata": {
            "tags": []
          },
          "execution_count": 10
        }
      ]
    },
    {
      "cell_type": "code",
      "metadata": {
        "id": "2qVAYlWShbzp",
        "colab_type": "code",
        "colab": {
          "base_uri": "https://localhost:8080/",
          "height": 34
        },
        "outputId": "0cd63434-0bd7-4249-ad13-d5dff6d0d223"
      },
      "source": [
        "randn5000.std()"
      ],
      "execution_count": 11,
      "outputs": [
        {
          "output_type": "execute_result",
          "data": {
            "text/plain": [
              "1.0000595432960229"
            ]
          },
          "metadata": {
            "tags": []
          },
          "execution_count": 11
        }
      ]
    },
    {
      "cell_type": "markdown",
      "metadata": {
        "id": "yaBKFKoOh16J",
        "colab_type": "text"
      },
      "source": [
        "# 整数の乱数\n",
        "\n",
        "* np.random.randint()で整数の乱数を生成できる"
      ]
    },
    {
      "cell_type": "code",
      "metadata": {
        "id": "OWpwKaPYhm8g",
        "colab_type": "code",
        "colab": {
          "base_uri": "https://localhost:8080/",
          "height": 34
        },
        "outputId": "3644c374-83d6-413a-948f-4c08e3f13977"
      },
      "source": [
        "np.random.randint(100)"
      ],
      "execution_count": 14,
      "outputs": [
        {
          "output_type": "execute_result",
          "data": {
            "text/plain": [
              "75"
            ]
          },
          "metadata": {
            "tags": []
          },
          "execution_count": 14
        }
      ]
    },
    {
      "cell_type": "code",
      "metadata": {
        "id": "j-bL29MMh7RN",
        "colab_type": "code",
        "colab": {
          "base_uri": "https://localhost:8080/",
          "height": 52
        },
        "outputId": "354b821a-429f-4ffc-94b0-2ee6d8cdc1b8"
      },
      "source": [
        "np.random.randint(1,30,30)"
      ],
      "execution_count": 15,
      "outputs": [
        {
          "output_type": "execute_result",
          "data": {
            "text/plain": [
              "array([20, 15,  1, 15,  2, 14, 29, 23, 10, 26, 21, 19, 14,  4, 26, 15, 29,\n",
              "       19, 11,  4,  1, 14, 15, 14, 21, 20, 17, 22, 15, 24])"
            ]
          },
          "metadata": {
            "tags": []
          },
          "execution_count": 15
        }
      ]
    },
    {
      "cell_type": "code",
      "metadata": {
        "id": "d1fCdehth-dH",
        "colab_type": "code",
        "colab": {
          "base_uri": "https://localhost:8080/",
          "height": 1000
        },
        "outputId": "682bd937-8e78-4bc7-dc20-5956f01b6cae"
      },
      "source": [
        "randint30 = np.random.randint(1,30,(30,30))\n",
        "print(randint30)\n",
        "print(randint30.shape)"
      ],
      "execution_count": 18,
      "outputs": [
        {
          "output_type": "stream",
          "text": [
            "[[ 9 15  3 10 16 13  8 13  1 10 22 13  7 13 20 18  2 22  5 25 15 24 28  2\n",
            "   8 20 28  8 10 16]\n",
            " [23 27 24  1 11  3 16 21 29 23  5  1  6 10 13 24 28  5 14  5 15  2 27 14\n",
            "  27 28 13  5  2  6]\n",
            " [26  6 11 27  8 25 28 19 18 21 17  1  9 19  4  5 18 16 17 14 26 13 20 17\n",
            "   7 22  3 24  2  9]\n",
            " [12  3 18 19 12 13 26  8 10  3  6 13 29  8 22  7 26 17 24  3 17  6 25 13\n",
            "  27 18  9 18 12  2]\n",
            " [16  6 28 16  8  3 20 20  1 16 23 11 18 23 18 21 18 27 17 12 25  8  8 21\n",
            "  12 20  3  8 11  4]\n",
            " [ 8 22 14 13  2  1 29 28 11 16 24 15  9 29 20 26  4  2 28 20  3 12  4 22\n",
            "  24  3 29  1 28 20]\n",
            " [ 8  6  4  2  8  4 20 28 25  6 12 22 24 18 20 10 28 23 26 25 18 10  1  3\n",
            "  20  8  9  9  7  9]\n",
            " [23 25  6  5 22 12 12 28 29  3  2 23 17 11 28 26 22 19 15 16  1 18 13 19\n",
            "  11 11 22 29 16 23]\n",
            " [11 15 17 20 29  6 17  3 11 25 17 20  5 16 25 16 26 24 25 17 28 10  7 11\n",
            "  29 22 27 22 21 29]\n",
            " [29 27 13 16 19 12  1 21 17 10 15 14 25 16  6  4 14 10 24  9  7  9  8  6\n",
            "   8  8  7 12 11 13]\n",
            " [ 6  8 11 20  7 25 17 20 19  9  6 12  8 19  3 28 23  2  7 10 10  7 19 21\n",
            "  18  1  7 11  5 14]\n",
            " [15 10  8  7  7 14  5  3  4 21 16 28 11 11 27 22 12  6 16 10  4 17 28 25\n",
            "   5  7 19 23 18  5]\n",
            " [25  3 26 21 16  3 23 29  6  6 28  8 25  5 23  6 28  8 29  2  7  6  6  8\n",
            "   1 23  9  2  3 12]\n",
            " [18 15  2 28 14 19 25  4 10 20 25  3 13 10 28 26 12 10 18 27 25 15 29 18\n",
            "  16 21 27 10 16 11]\n",
            " [24 15  9 23 28  5 19 18 21 19 29 29  2 17 22 14 10 17 28 15  3  2 28 26\n",
            "  29 11 24  1  6  7]\n",
            " [15 25 15 15 19 10 27 20 19 19 22 16 22 22  3  9  4 10 11 19 16 19 17 28\n",
            "  29  4  8 28  8 20]\n",
            " [22 15  7 23 11 11 13 16 21 27  1  9 20 12 20 10 21  8 25 26 15 22 24 15\n",
            "   6  8 21 27 26 12]\n",
            " [17 24 19 25 18  5  3 12 29 21 29  4 15 12 15 21 20 20 13 29 22 18  8 18\n",
            "  24  2 17 26  3  3]\n",
            " [22 15 14  8 11 15 13 17  8 25  8 13  9 18 29  9  4 18 10  2 15 29 24 23\n",
            "   3 17 11 16 11 22]\n",
            " [ 2 27 14 24 21 10 18  5 24  6 28 10 26 19  9  6  7  7 21  9 28 27  2 24\n",
            "   2 12 15 15  2 24]\n",
            " [21 17 15 15  3 15 29  3 24  1 18 29  6  5  4 25 26  9 22  9  8  5 29 25\n",
            "  28 16  1 11  8  2]\n",
            " [19 26 26  8 11  3 25 24 26 10 22 26  5  8 26 14 20  1 27 11 25 14 21  2\n",
            "  20 21 22  8 17 14]\n",
            " [29  3 11  5  4 22 19 14  9  2  7 18 14  2  4 15  1 10 13 22  5  1 11  6\n",
            "   5 25 28 23  4  9]\n",
            " [27 14  5 11 15 29  9 23 10 15  4 29 16 25  6 26 12 13 23 27 21 13 16  2\n",
            "  12  8  1 10 11 20]\n",
            " [29 16 17 26  3  9 22 20  4 17 29 20  7 29 24 12 14  4 24  6 12  1  4 12\n",
            "   8 12 25  3 26 20]\n",
            " [ 4  1  3 29  7 29 14  8 18  8 27 27 26 28  9 21 19 10 28  3 18 25  5 11\n",
            "  28  5 16  2  8 26]\n",
            " [24 24 10 23  1  7 22  9  6 21 23  9 26 22  6 18 23 16 11 10 27  2  5 18\n",
            "  21 17 10 22 16 17]\n",
            " [19  4 18 29 14 15 16  9  6 28  3 22 29 26  4  6 14 14  7  1 12 11 12 17\n",
            "  24  5 20 12 24 29]\n",
            " [24 12  4  6 21 28  4 23 27  4 11 14  5 24 12 13 11  7 13 17 19 23 14  6\n",
            "  24 23 13 21  7 11]\n",
            " [ 6 14  2 15 27  1  5 29 18  6  4  3 28 15  3 23 20 27  2  7  2 22 23 16\n",
            "  18 20 21 23  6 18]]\n",
            "(30, 30)\n"
          ],
          "name": "stdout"
        }
      ]
    },
    {
      "cell_type": "markdown",
      "metadata": {
        "id": "cNmBqY5biYXJ",
        "colab_type": "text"
      },
      "source": [
        "# Seed の使い方"
      ]
    },
    {
      "cell_type": "code",
      "metadata": {
        "id": "Lm9awyCgiQ7d",
        "colab_type": "code",
        "colab": {}
      },
      "source": [
        "np.random.seed(100)"
      ],
      "execution_count": 0,
      "outputs": []
    },
    {
      "cell_type": "code",
      "metadata": {
        "id": "OmVIiXdNicIi",
        "colab_type": "code",
        "colab": {
          "base_uri": "https://localhost:8080/",
          "height": 34
        },
        "outputId": "8737e3ce-81f3-4120-8e5e-f274e92ac98e"
      },
      "source": [
        "np.random.randn()"
      ],
      "execution_count": 20,
      "outputs": [
        {
          "output_type": "execute_result",
          "data": {
            "text/plain": [
              "-1.7497654730546974"
            ]
          },
          "metadata": {
            "tags": []
          },
          "execution_count": 20
        }
      ]
    },
    {
      "cell_type": "code",
      "metadata": {
        "id": "MaPRsom9idjr",
        "colab_type": "code",
        "colab": {
          "base_uri": "https://localhost:8080/",
          "height": 34
        },
        "outputId": "d05c02fe-0f29-4a58-eb8b-330cc4397dd2"
      },
      "source": [
        "np.random.randn()"
      ],
      "execution_count": 21,
      "outputs": [
        {
          "output_type": "execute_result",
          "data": {
            "text/plain": [
              "0.34268040332750216"
            ]
          },
          "metadata": {
            "tags": []
          },
          "execution_count": 21
        }
      ]
    },
    {
      "cell_type": "code",
      "metadata": {
        "id": "EFRhcXemigtd",
        "colab_type": "code",
        "colab": {
          "base_uri": "https://localhost:8080/",
          "height": 34
        },
        "outputId": "c43bda88-2a4c-4a40-c6d3-4cdcfd566622"
      },
      "source": [
        "np.random.randn()"
      ],
      "execution_count": 22,
      "outputs": [
        {
          "output_type": "execute_result",
          "data": {
            "text/plain": [
              "1.153035802563644"
            ]
          },
          "metadata": {
            "tags": []
          },
          "execution_count": 22
        }
      ]
    },
    {
      "cell_type": "code",
      "metadata": {
        "id": "b7xt74OCihYz",
        "colab_type": "code",
        "colab": {
          "base_uri": "https://localhost:8080/",
          "height": 34
        },
        "outputId": "646af53b-c8ea-4a5e-bb44-5c99ee29796b"
      },
      "source": [
        "np.random.randn()"
      ],
      "execution_count": 23,
      "outputs": [
        {
          "output_type": "execute_result",
          "data": {
            "text/plain": [
              "-0.25243603652138985"
            ]
          },
          "metadata": {
            "tags": []
          },
          "execution_count": 23
        }
      ]
    },
    {
      "cell_type": "code",
      "metadata": {
        "id": "SLLsNt7viiQ6",
        "colab_type": "code",
        "colab": {}
      },
      "source": [
        "np.random.seed(100)"
      ],
      "execution_count": 0,
      "outputs": []
    },
    {
      "cell_type": "code",
      "metadata": {
        "id": "upjl09wzikdD",
        "colab_type": "code",
        "colab": {
          "base_uri": "https://localhost:8080/",
          "height": 34
        },
        "outputId": "e9a968d4-23fb-42b8-d845-ff179e7cdd72"
      },
      "source": [
        "np.random.randn()"
      ],
      "execution_count": 25,
      "outputs": [
        {
          "output_type": "execute_result",
          "data": {
            "text/plain": [
              "-1.7497654730546974"
            ]
          },
          "metadata": {
            "tags": []
          },
          "execution_count": 25
        }
      ]
    },
    {
      "cell_type": "code",
      "metadata": {
        "id": "xePGvT2Cil2_",
        "colab_type": "code",
        "colab": {}
      },
      "source": [
        ""
      ],
      "execution_count": 0,
      "outputs": []
    }
  ]
}