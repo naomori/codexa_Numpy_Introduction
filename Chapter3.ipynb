{
  "nbformat": 4,
  "nbformat_minor": 0,
  "metadata": {
    "colab": {
      "name": "Chapter3.ipynb",
      "version": "0.3.2",
      "provenance": [],
      "include_colab_link": true
    },
    "kernelspec": {
      "name": "python3",
      "display_name": "Python 3"
    },
    "accelerator": "GPU"
  },
  "cells": [
    {
      "cell_type": "markdown",
      "metadata": {
        "id": "view-in-github",
        "colab_type": "text"
      },
      "source": [
        "<a href=\"https://colab.research.google.com/github/naomori/codexa_Numpy_Introduction/blob/master/Chapter3.ipynb\" target=\"_parent\"><img src=\"https://colab.research.google.com/assets/colab-badge.svg\" alt=\"Open In Colab\"/></a>"
      ]
    },
    {
      "cell_type": "markdown",
      "metadata": {
        "id": "HXCwYWCzYe8c",
        "colab_type": "text"
      },
      "source": [
        "## Numpy\n",
        "\n",
        "* Python の数値計算を効率的に行うための拡張ライブラリ\n",
        "* 多次元配列オブジェクトの操作/演算に便利\n",
        "* Machine Learning/Deep Learningでは必須\n",
        "* Scikit-learn などで使われており、Numpy 知らないと不便\n",
        "* 基本的な操作方法さえ覚えておけば良い\n",
        "* 応用的な操作はその都度、公式ドキュメントを見ればOK"
      ]
    },
    {
      "cell_type": "code",
      "metadata": {
        "id": "NKmqj-chYW1Z",
        "colab_type": "code",
        "colab": {}
      },
      "source": [
        "import numpy as np"
      ],
      "execution_count": 0,
      "outputs": []
    },
    {
      "cell_type": "code",
      "metadata": {
        "id": "IkBRQ6u7ZEWo",
        "colab_type": "code",
        "colab": {
          "base_uri": "https://localhost:8080/",
          "height": 34
        },
        "outputId": "d6aa7797-ebb0-460f-ba5e-e49ec2432e40"
      },
      "source": [
        "np.version.full_version"
      ],
      "execution_count": 2,
      "outputs": [
        {
          "output_type": "execute_result",
          "data": {
            "text/plain": [
              "'1.16.4'"
            ]
          },
          "metadata": {
            "tags": []
          },
          "execution_count": 2
        }
      ]
    },
    {
      "cell_type": "code",
      "metadata": {
        "id": "CkQzmjsiZKeq",
        "colab_type": "code",
        "colab": {}
      },
      "source": [
        ""
      ],
      "execution_count": 0,
      "outputs": []
    }
  ]
}