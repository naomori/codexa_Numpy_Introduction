{
  "nbformat": 4,
  "nbformat_minor": 0,
  "metadata": {
    "colab": {
      "name": "Excercises.ipynb",
      "version": "0.3.2",
      "provenance": [],
      "include_colab_link": true
    },
    "kernelspec": {
      "name": "python3",
      "display_name": "Python 3"
    }
  },
  "cells": [
    {
      "cell_type": "markdown",
      "metadata": {
        "id": "view-in-github",
        "colab_type": "text"
      },
      "source": [
        "<a href=\"https://colab.research.google.com/github/naomori/codexa_Numpy_Introduction/blob/master/Excercises.ipynb\" target=\"_parent\"><img src=\"https://colab.research.google.com/assets/colab-badge.svg\" alt=\"Open In Colab\"/></a>"
      ]
    },
    {
      "cell_type": "markdown",
      "metadata": {
        "id": "tFhyNIap7CO-",
        "colab_type": "text"
      },
      "source": [
        "# Q1\n",
        "\n",
        "a[1,2] = 8"
      ]
    },
    {
      "cell_type": "markdown",
      "metadata": {
        "id": "oZJkHhOj7Wjl",
        "colab_type": "text"
      },
      "source": [
        "# Q2\n",
        "[10,1]"
      ]
    },
    {
      "cell_type": "markdown",
      "metadata": {
        "id": "S0K3U8zt7Z1-",
        "colab_type": "text"
      },
      "source": [
        "# Q3\n",
        "\n",
        "$\\begin{pmatrix}\n",
        "3 & 8 \\\\\n",
        "8 & 5\n",
        "\\end{pmatrix}$"
      ]
    },
    {
      "cell_type": "markdown",
      "metadata": {
        "id": "Ei4OrCRj7okX",
        "colab_type": "text"
      },
      "source": [
        "# Q4\n",
        "\n",
        "$\\begin{pmatrix}\n",
        "2 & 12 \\\\\n",
        "30 & 4\n",
        "\\end{pmatrix}$"
      ]
    },
    {
      "cell_type": "markdown",
      "metadata": {
        "id": "7RyyFoQ7743i",
        "colab_type": "text"
      },
      "source": [
        "# Q5\n",
        "\n",
        "$\\begin{pmatrix}\n",
        "17 & 14 \\\\\n",
        "16 & 28\n",
        "\\end{pmatrix}$"
      ]
    },
    {
      "cell_type": "markdown",
      "metadata": {
        "id": "jp-KaQ-B8pug",
        "colab_type": "text"
      },
      "source": [
        "# Q6\n",
        "$\\begin{pmatrix}\n",
        "1 & 0 \\\\\n",
        "0 & 1\n",
        "\\end{pmatrix}$"
      ]
    },
    {
      "cell_type": "code",
      "metadata": {
        "id": "oOxuO1wK611Q",
        "colab_type": "code",
        "colab": {}
      },
      "source": [
        "import numpy as np"
      ],
      "execution_count": 0,
      "outputs": []
    },
    {
      "cell_type": "code",
      "metadata": {
        "id": "DvVXl4aa7Inn",
        "colab_type": "code",
        "colab": {}
      },
      "source": [
        ""
      ],
      "execution_count": 0,
      "outputs": []
    }
  ]
}