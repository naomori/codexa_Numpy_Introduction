{
  "nbformat": 4,
  "nbformat_minor": 0,
  "metadata": {
    "colab": {
      "name": "Chapter1.ipynb",
      "version": "0.3.2",
      "provenance": [],
      "include_colab_link": true
    },
    "kernelspec": {
      "name": "python3",
      "display_name": "Python 3"
    }
  },
  "cells": [
    {
      "cell_type": "markdown",
      "metadata": {
        "id": "view-in-github",
        "colab_type": "text"
      },
      "source": [
        "<a href=\"https://colab.research.google.com/github/naomori/codexa_Numpy_Introduction/blob/master/Chapter1.ipynb\" target=\"_parent\"><img src=\"https://colab.research.google.com/assets/colab-badge.svg\" alt=\"Open In Colab\"/></a>"
      ]
    },
    {
      "cell_type": "markdown",
      "metadata": {
        "id": "zftC28qeWq0e",
        "colab_type": "text"
      },
      "source": [
        "# Chapter.1: コース概要と紹介\n",
        "\n",
        "## Numpy\n",
        "* 大規模なデータを処理するのに適している\n",
        "* Scipy,Pands,Scikit-learn は Numpy をベースにしている\n",
        "* 機械学習をする上で必須\n",
        "\n",
        "## 受講資格\n",
        "* python の基礎的な知識\n",
        "\n",
        "## 対象者\n",
        "* これから機械学習を学ぶ人\n",
        "* すでに機械学習を勉強し始めているがNumpyに不安のある人"
      ]
    },
    {
      "cell_type": "code",
      "metadata": {
        "id": "J2IiRQTFWmsh",
        "colab_type": "code",
        "colab": {}
      },
      "source": [
        ""
      ],
      "execution_count": 0,
      "outputs": []
    }
  ]
}